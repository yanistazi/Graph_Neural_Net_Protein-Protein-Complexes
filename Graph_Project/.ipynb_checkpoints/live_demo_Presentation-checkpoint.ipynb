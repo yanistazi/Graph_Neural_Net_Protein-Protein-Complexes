{
 "cells": [
  {
   "cell_type": "code",
   "execution_count": 4,
   "id": "db7362ab",
   "metadata": {},
   "outputs": [],
   "source": [
    "# change paths based on your directory\n",
    "import sys\n",
    "sys.path.append('/bgfs01/insite/yanis.tazi/Scoring_Project/Graph_Project/')\n",
    "sys.path.append('/bgfs01/insite/yanis.tazi/Scoring_Project/DeepRank-GNN/')\n",
    "from Model_Functions.Model_Training import *\n",
    "import warnings\n",
    "import numpy as np\n",
    "warnings.filterwarnings(\"ignore\")"
   ]
  },
  {
   "cell_type": "markdown",
   "id": "85b8d33a",
   "metadata": {},
   "source": [
    "# I. Model Training \n",
    "\n",
    "Train model using specified parameters with possibility to train a new model from scratch, \n",
    "        load checkpoint and resume training or load checkpoint from pretrained model and perform \n",
    "        transfer learning.\n",
    "\n",
    "Outputs :\n",
    "\n",
    "    1. arguments.txt to keep track of all parameters\n",
    "    2. latest n best saved models .pth.tar\n",
    "    3. latest N saved plots .png\n",
    "    4. train_data.hdf5 with data saved every save_every epochs . It contains training and validation input names \n",
    "       with associated outputs and predictions. Helpful to recompute loss function across epochs.\n",
    "    5. Train loss (train_loss.txt) to keep track of the training loss over training iterations\n",
    "    6. Validation loss (valid_loss.txt) to keep track of the validation loss over training iterations\n",
    "Specificities : handle errors by creating folders of folders if path has not been changed."
   ]
  },
  {
   "cell_type": "code",
   "execution_count": 5,
   "id": "fb9022e9",
   "metadata": {},
   "outputs": [],
   "source": [
    "dir_path=\"/bgfs01/insite02/yanis.tazi/data/graph_project_data/hdf5_replicates/hdf5_pdb_graphs_copy_7/\"\n",
    "edge_feature=['dist']\n",
    "node_feature=['type', 'polarity', 'bsa','pos','chain','charge']\n",
    "batch_size=1024\n",
    "target='scoring_normalized'\n",
    "task='reg'\n",
    "shuffle=True\n",
    "optimizer_name=\"Adam\"\n",
    "lr=0.001\n",
    "percent = \"\"\n",
    "threshold = 5\n",
    "list_complexes=\"\"\n",
    "database_eval = \"\"\n",
    "outdir = \"\"\n",
    "neuralnet_arch=GINet\n",
    "nepoch=5\n",
    "save_model=\"best\"\n",
    "save_epoch='intermediate'\n",
    "save_every=5\n",
    "plot_every=5\n",
    "plot_name='plot_loss'\n",
    "pretrained_model=\"\"\n",
    "train_using_pretrained_model=\"\"\n",
    "epoch_start=\"\"\n",
    "keep_latest_saved_models=3\n",
    "keep_latest_saved_plots=3"
   ]
  },
  {
   "cell_type": "markdown",
   "id": "b9f941d2",
   "metadata": {},
   "source": [
    "### Training graph on list complexes and evaluate on database_eval"
   ]
  },
  {
   "cell_type": "code",
   "execution_count": 4,
   "id": "0631e287",
   "metadata": {},
   "outputs": [
    {
     "name": "stdout",
     "output_type": "stream",
     "text": [
      "Database training :\n",
      "['/bgfs01/insite02/yanis.tazi/data/graph_project_data/hdf5_replicates/hdf5_pdb_graphs_copy_7/1EXB/residues.hdf5']\n",
      "Database testing:\n",
      "['/bgfs01/insite02/yanis.tazi/data/graph_project_data/hdf5_replicates/hdf5_pdb_graphs_copy_7/1EXB/residues.hdf5']\n",
      "percent:  [1.0, 0.0]\n",
      "/bgfs01/insite/yanis.tazi/Scoring_Project/Graph_Project/live_demo_predictions/train_demo/val_data_specified/ exists\n",
      "edge_feature ['dist']\n",
      "node_feature ['type', 'polarity', 'bsa', 'pos', 'chain', 'charge']\n",
      "batch_size 1024\n",
      "target scoring_normalized\n",
      "task reg\n",
      "shuffle True\n",
      "lr 0.001\n",
      "percent [1.0, 0.0]\n",
      "threshold 5\n",
      "list_complexes ['1EXB']\n",
      "database_eval ['/bgfs01/insite02/yanis.tazi/data/graph_project_data/hdf5_replicates/hdf5_pdb_graphs_copy_7/BAAD/residues.hdf5']\n",
      "outdir /bgfs01/insite/yanis.tazi/Scoring_Project/Graph_Project/live_demo_predictions/train_demo/val_data_specified/2021-10-11 17:03:30/\n",
      "neuralnet_arch <class 'deeprank_gnn.ginet.GINet'>\n",
      "nepoch 5\n",
      "save_model best\n",
      "save_epoch intermediate\n",
      "save_every 5\n",
      "plot_every 5\n",
      "plot_name plot_loss\n",
      "optimizer_name Adam\n",
      "pretrained_model None\n",
      "train_using_pretrained_model False\n",
      "epoch_start 0\n",
      "keep_latest_saved_models 3\n",
      "keep_latest_saved_plots 3\n",
      "database_train ['/bgfs01/insite02/yanis.tazi/data/graph_project_data/hdf5_replicates/hdf5_pdb_graphs_copy_7/1EXB/residues.hdf5']\n",
      "dir_path /bgfs01/insite02/yanis.tazi/data/graph_project_data/hdf5_replicates/hdf5_pdb_graphs_copy_7/\n",
      "No pretrained model\n",
      "   Checking dataset Integrity\n",
      "   Processing data set\n",
      "   Train dataset         : 100%|█| 1/1 [00:00<00:00, 21.36it/s, mol=residues.hdf\n",
      "Loading clusters\n"
     ]
    },
    {
     "name": "stderr",
     "output_type": "stream",
     "text": [
      "  0%|                                                    | 0/62 [00:00<?, ?it/s]"
     ]
    },
    {
     "name": "stdout",
     "output_type": "stream",
     "text": [
      "Deleting previous data for mol 1EXB_it0_complex_1430 method mcl\n"
     ]
    },
    {
     "name": "stderr",
     "output_type": "stream",
     "text": [
      "  2%|▋                                           | 1/62 [00:00<00:13,  4.53it/s]"
     ]
    },
    {
     "name": "stdout",
     "output_type": "stream",
     "text": [
      "Deleting previous data for mol 1EXB_it0_complex_2009 method mcl\n"
     ]
    },
    {
     "name": "stderr",
     "output_type": "stream",
     "text": [
      "  3%|█▍                                          | 2/62 [00:00<00:12,  4.92it/s]"
     ]
    },
    {
     "name": "stdout",
     "output_type": "stream",
     "text": [
      "Deleting previous data for mol 1EXB_it0_complex_2206 method mcl\n"
     ]
    },
    {
     "name": "stderr",
     "output_type": "stream",
     "text": [
      "  5%|██▏                                         | 3/62 [00:00<00:11,  5.32it/s]"
     ]
    },
    {
     "name": "stdout",
     "output_type": "stream",
     "text": [
      "Deleting previous data for mol 1EXB_it0_complex_2221 method mcl\n"
     ]
    },
    {
     "name": "stderr",
     "output_type": "stream",
     "text": [
      "  8%|███▌                                        | 5/62 [00:01<00:12,  4.67it/s]"
     ]
    },
    {
     "name": "stdout",
     "output_type": "stream",
     "text": [
      "Deleting previous data for mol 1EXB_it0_complex_2368 method mcl\n"
     ]
    },
    {
     "name": "stderr",
     "output_type": "stream",
     "text": [
      " 10%|████▎                                       | 6/62 [00:01<00:11,  4.72it/s]"
     ]
    },
    {
     "name": "stdout",
     "output_type": "stream",
     "text": [
      "Deleting previous data for mol 1EXB_it0_complex_2543 method mcl\n"
     ]
    },
    {
     "name": "stderr",
     "output_type": "stream",
     "text": [
      " 11%|████▉                                       | 7/62 [00:01<00:15,  3.47it/s]"
     ]
    },
    {
     "name": "stdout",
     "output_type": "stream",
     "text": [
      "Deleting previous data for mol 1EXB_it0_complex_3409 method mcl\n"
     ]
    },
    {
     "name": "stderr",
     "output_type": "stream",
     "text": [
      " 13%|█████▋                                      | 8/62 [00:01<00:13,  3.88it/s]"
     ]
    },
    {
     "name": "stdout",
     "output_type": "stream",
     "text": [
      "Deleting previous data for mol 1EXB_it0_complex_3499 method mcl\n",
      "Deleting previous data for mol 1EXB_it0_complex_4562 method mcl\n"
     ]
    },
    {
     "name": "stderr",
     "output_type": "stream",
     "text": [
      " 16%|██████▉                                    | 10/62 [00:02<00:11,  4.70it/s]"
     ]
    },
    {
     "name": "stdout",
     "output_type": "stream",
     "text": [
      "Deleting previous data for mol 1EXB_it0_complex_4703 method mcl\n",
      "Deleting previous data for mol 1EXB_it0_complex_537 method mcl\n"
     ]
    },
    {
     "name": "stderr",
     "output_type": "stream",
     "text": [
      " 19%|████████▎                                  | 12/62 [00:02<00:09,  5.21it/s]"
     ]
    },
    {
     "name": "stdout",
     "output_type": "stream",
     "text": [
      "Deleting previous data for mol 1EXB_it0_complex_5546 method mcl\n",
      "Deleting previous data for mol 1EXB_it0_complex_632 method mcl\n"
     ]
    },
    {
     "name": "stderr",
     "output_type": "stream",
     "text": [
      " 23%|█████████▋                                 | 14/62 [00:02<00:08,  5.38it/s]"
     ]
    },
    {
     "name": "stdout",
     "output_type": "stream",
     "text": [
      "Deleting previous data for mol 1EXB_it0_complex_6584 method mcl\n",
      "Deleting previous data for mol 1EXB_it0_complex_663 method mcl\n"
     ]
    },
    {
     "name": "stderr",
     "output_type": "stream",
     "text": [
      " 26%|███████████                                | 16/62 [00:03<00:09,  4.89it/s]"
     ]
    },
    {
     "name": "stdout",
     "output_type": "stream",
     "text": [
      "Deleting previous data for mol 1EXB_it0_complex_7007 method mcl\n",
      "Deleting previous data for mol 1EXB_it0_complex_7079 method mcl\n"
     ]
    },
    {
     "name": "stderr",
     "output_type": "stream",
     "text": [
      " 29%|████████████▍                              | 18/62 [00:03<00:09,  4.65it/s]"
     ]
    },
    {
     "name": "stdout",
     "output_type": "stream",
     "text": [
      "Deleting previous data for mol 1EXB_it0_complex_7091 method mcl\n"
     ]
    },
    {
     "name": "stderr",
     "output_type": "stream",
     "text": [
      " 31%|█████████████▏                             | 19/62 [00:04<00:09,  4.60it/s]"
     ]
    },
    {
     "name": "stdout",
     "output_type": "stream",
     "text": [
      "Deleting previous data for mol 1EXB_it0_complex_8095 method mcl\n",
      "Deleting previous data for mol 1EXB_it0_complex_8245 method mcl\n"
     ]
    },
    {
     "name": "stderr",
     "output_type": "stream",
     "text": [
      " 34%|██████████████▌                            | 21/62 [00:04<00:08,  5.09it/s]"
     ]
    },
    {
     "name": "stdout",
     "output_type": "stream",
     "text": [
      "Deleting previous data for mol 1EXB_it0_complex_8532 method mcl\n"
     ]
    },
    {
     "name": "stderr",
     "output_type": "stream",
     "text": [
      " 35%|███████████████▎                           | 22/62 [00:04<00:08,  4.98it/s]"
     ]
    },
    {
     "name": "stdout",
     "output_type": "stream",
     "text": [
      "Deleting previous data for mol 1EXB_it0_complex_8667 method mcl\n"
     ]
    },
    {
     "name": "stderr",
     "output_type": "stream",
     "text": [
      " 37%|███████████████▉                           | 23/62 [00:04<00:08,  4.78it/s]"
     ]
    },
    {
     "name": "stdout",
     "output_type": "stream",
     "text": [
      "Deleting previous data for mol 1EXB_it0_complex_87 method mcl\n",
      "Deleting previous data for mol 1EXB_it0_complex_875 method mcl\n"
     ]
    },
    {
     "name": "stderr",
     "output_type": "stream",
     "text": [
      " 40%|█████████████████▎                         | 25/62 [00:05<00:07,  4.91it/s]"
     ]
    },
    {
     "name": "stdout",
     "output_type": "stream",
     "text": [
      "Deleting previous data for mol 1EXB_it0_complex_8762 method mcl\n"
     ]
    },
    {
     "name": "stderr",
     "output_type": "stream",
     "text": [
      " 42%|██████████████████                         | 26/62 [00:05<00:07,  4.84it/s]"
     ]
    },
    {
     "name": "stdout",
     "output_type": "stream",
     "text": [
      "Deleting previous data for mol 1EXB_it0_complex_9264 method mcl\n",
      "Deleting previous data for mol 1EXB_it0_complex_9330 method mcl\n"
     ]
    },
    {
     "name": "stderr",
     "output_type": "stream",
     "text": [
      " 45%|███████████████████▍                       | 28/62 [00:05<00:07,  4.78it/s]"
     ]
    },
    {
     "name": "stdout",
     "output_type": "stream",
     "text": [
      "Deleting previous data for mol 1EXB_it0_complex_9569 method mcl\n",
      "Deleting previous data for mol 1EXB_it1_complex_100 method mcl\n"
     ]
    },
    {
     "name": "stderr",
     "output_type": "stream",
     "text": [
      " 48%|████████████████████▊                      | 30/62 [00:06<00:06,  4.80it/s]"
     ]
    },
    {
     "name": "stdout",
     "output_type": "stream",
     "text": [
      "Deleting previous data for mol 1EXB_it1_complex_115 method mcl\n"
     ]
    },
    {
     "name": "stderr",
     "output_type": "stream",
     "text": [
      " 50%|█████████████████████▌                     | 31/62 [00:06<00:06,  4.83it/s]"
     ]
    },
    {
     "name": "stdout",
     "output_type": "stream",
     "text": [
      "Deleting previous data for mol 1EXB_it1_complex_156 method mcl\n"
     ]
    },
    {
     "name": "stderr",
     "output_type": "stream",
     "text": [
      " 52%|██████████████████████▏                    | 32/62 [00:06<00:06,  4.69it/s]"
     ]
    },
    {
     "name": "stdout",
     "output_type": "stream",
     "text": [
      "Deleting previous data for mol 1EXB_it1_complex_200 method mcl\n"
     ]
    },
    {
     "name": "stderr",
     "output_type": "stream",
     "text": [
      " 53%|██████████████████████▉                    | 33/62 [00:06<00:05,  4.97it/s]"
     ]
    },
    {
     "name": "stdout",
     "output_type": "stream",
     "text": [
      "Deleting previous data for mol 1EXB_it1_complex_217 method mcl\n",
      "Deleting previous data for mol 1EXB_it1_complex_218 method mcl\n"
     ]
    },
    {
     "name": "stderr",
     "output_type": "stream",
     "text": [
      " 56%|████████████████████████▎                  | 35/62 [00:07<00:05,  5.23it/s]"
     ]
    },
    {
     "name": "stdout",
     "output_type": "stream",
     "text": [
      "Deleting previous data for mol 1EXB_it1_complex_238 method mcl\n",
      "Deleting previous data for mol 1EXB_it1_complex_258 method mcl\n"
     ]
    },
    {
     "name": "stderr",
     "output_type": "stream",
     "text": [
      " 60%|█████████████████████████▋                 | 37/62 [00:07<00:06,  4.07it/s]"
     ]
    },
    {
     "name": "stdout",
     "output_type": "stream",
     "text": [
      "Deleting previous data for mol 1EXB_it1_complex_260 method mcl\n",
      "Deleting previous data for mol 1EXB_it1_complex_293 method mcl\n"
     ]
    },
    {
     "name": "stderr",
     "output_type": "stream",
     "text": [
      " 63%|███████████████████████████                | 39/62 [00:08<00:05,  4.31it/s]"
     ]
    },
    {
     "name": "stdout",
     "output_type": "stream",
     "text": [
      "Deleting previous data for mol 1EXB_it1_complex_314 method mcl\n"
     ]
    },
    {
     "name": "stderr",
     "output_type": "stream",
     "text": [
      " 65%|███████████████████████████▋               | 40/62 [00:08<00:04,  4.40it/s]"
     ]
    },
    {
     "name": "stdout",
     "output_type": "stream",
     "text": [
      "Deleting previous data for mol 1EXB_it1_complex_321 method mcl\n"
     ]
    },
    {
     "name": "stderr",
     "output_type": "stream",
     "text": [
      " 66%|████████████████████████████▍              | 41/62 [00:08<00:04,  4.69it/s]"
     ]
    },
    {
     "name": "stdout",
     "output_type": "stream",
     "text": [
      "Deleting previous data for mol 1EXB_it1_complex_334 method mcl\n"
     ]
    },
    {
     "name": "stderr",
     "output_type": "stream",
     "text": [
      " 68%|█████████████████████████████▏             | 42/62 [00:08<00:04,  4.73it/s]"
     ]
    },
    {
     "name": "stdout",
     "output_type": "stream",
     "text": [
      "Deleting previous data for mol 1EXB_it1_complex_359 method mcl\n",
      "Deleting previous data for mol 1EXB_it1_complex_43 method mcl\n"
     ]
    },
    {
     "name": "stderr",
     "output_type": "stream",
     "text": [
      " 71%|██████████████████████████████▌            | 44/62 [00:09<00:03,  4.67it/s]"
     ]
    },
    {
     "name": "stdout",
     "output_type": "stream",
     "text": [
      "Deleting previous data for mol 1EXB_it1_complex_57 method mcl\n",
      "Deleting previous data for mol 1EXB_it1_complex_7 method mcl\n"
     ]
    },
    {
     "name": "stderr",
     "output_type": "stream",
     "text": [
      " 74%|███████████████████████████████▉           | 46/62 [00:09<00:03,  4.38it/s]"
     ]
    },
    {
     "name": "stdout",
     "output_type": "stream",
     "text": [
      "Deleting previous data for mol 1EXB_water_complex_115w method mcl\n"
     ]
    },
    {
     "name": "stderr",
     "output_type": "stream",
     "text": [
      " 76%|████████████████████████████████▌          | 47/62 [00:09<00:03,  4.63it/s]"
     ]
    },
    {
     "name": "stdout",
     "output_type": "stream",
     "text": [
      "Deleting previous data for mol 1EXB_water_complex_123w method mcl\n",
      "Deleting previous data for mol 1EXB_water_complex_13w method mcl\n"
     ]
    },
    {
     "name": "stderr",
     "output_type": "stream",
     "text": [
      " 79%|█████████████████████████████████▉         | 49/62 [00:10<00:02,  4.89it/s]"
     ]
    },
    {
     "name": "stdout",
     "output_type": "stream",
     "text": [
      "Deleting previous data for mol 1EXB_water_complex_150w method mcl\n"
     ]
    },
    {
     "name": "stderr",
     "output_type": "stream",
     "text": [
      " 81%|██████████████████████████████████▋        | 50/62 [00:10<00:02,  5.52it/s]"
     ]
    },
    {
     "name": "stdout",
     "output_type": "stream",
     "text": [
      "Deleting previous data for mol 1EXB_water_complex_159w method mcl\n",
      "Deleting previous data for mol 1EXB_water_complex_179w method mcl\n"
     ]
    },
    {
     "name": "stderr",
     "output_type": "stream",
     "text": [
      " 84%|████████████████████████████████████       | 52/62 [00:10<00:01,  5.06it/s]"
     ]
    },
    {
     "name": "stdout",
     "output_type": "stream",
     "text": [
      "Deleting previous data for mol 1EXB_water_complex_237w method mcl\n"
     ]
    },
    {
     "name": "stderr",
     "output_type": "stream",
     "text": [
      " 85%|████████████████████████████████████▊      | 53/62 [00:11<00:02,  3.99it/s]"
     ]
    },
    {
     "name": "stdout",
     "output_type": "stream",
     "text": [
      "Deleting previous data for mol 1EXB_water_complex_243w method mcl\n"
     ]
    },
    {
     "name": "stderr",
     "output_type": "stream",
     "text": [
      " 87%|█████████████████████████████████████▍     | 54/62 [00:11<00:01,  4.21it/s]"
     ]
    },
    {
     "name": "stdout",
     "output_type": "stream",
     "text": [
      "Deleting previous data for mol 1EXB_water_complex_287w method mcl\n",
      "Deleting previous data for mol 1EXB_water_complex_293w method mcl\n"
     ]
    },
    {
     "name": "stderr",
     "output_type": "stream",
     "text": [
      " 90%|██████████████████████████████████████▊    | 56/62 [00:11<00:01,  4.54it/s]"
     ]
    },
    {
     "name": "stdout",
     "output_type": "stream",
     "text": [
      "Deleting previous data for mol 1EXB_water_complex_314w method mcl\n"
     ]
    },
    {
     "name": "stderr",
     "output_type": "stream",
     "text": [
      " 92%|███████████████████████████████████████▌   | 57/62 [00:12<00:01,  4.82it/s]"
     ]
    },
    {
     "name": "stdout",
     "output_type": "stream",
     "text": [
      "Deleting previous data for mol 1EXB_water_complex_334w method mcl\n",
      "Deleting previous data for mol 1EXB_water_complex_359w method mcl\n"
     ]
    },
    {
     "name": "stderr",
     "output_type": "stream",
     "text": [
      " 95%|████████████████████████████████████████▉  | 59/62 [00:12<00:00,  4.82it/s]"
     ]
    },
    {
     "name": "stdout",
     "output_type": "stream",
     "text": [
      "Deleting previous data for mol 1EXB_water_complex_383w method mcl\n"
     ]
    },
    {
     "name": "stderr",
     "output_type": "stream",
     "text": [
      " 97%|█████████████████████████████████████████▌ | 60/62 [00:12<00:00,  4.71it/s]"
     ]
    },
    {
     "name": "stdout",
     "output_type": "stream",
     "text": [
      "Deleting previous data for mol 1EXB_water_complex_3w method mcl\n"
     ]
    },
    {
     "name": "stderr",
     "output_type": "stream",
     "text": [
      " 98%|██████████████████████████████████████████▎| 61/62 [00:12<00:00,  5.03it/s]"
     ]
    },
    {
     "name": "stdout",
     "output_type": "stream",
     "text": [
      "Deleting previous data for mol 1EXB_water_complex_57w method mcl\n",
      "Deleting previous data for mol 1EXB_water_complex_7w method mcl\n"
     ]
    },
    {
     "name": "stderr",
     "output_type": "stream",
     "text": [
      "100%|███████████████████████████████████████████| 62/62 [00:13<00:00,  4.75it/s]\n"
     ]
    },
    {
     "name": "stdout",
     "output_type": "stream",
     "text": [
      "Training set loaded\n",
      "Loading independent evaluation dataset...\n",
      "   Checking dataset Integrity\n",
      "   Processing data set\n",
      "   Train dataset         : 100%|█| 1/1 [00:00<00:00, 23.58it/s, mol=residues.hdf\n",
      "Loading clusters for the evaluation set.\n"
     ]
    },
    {
     "name": "stderr",
     "output_type": "stream",
     "text": [
      "  0%|                                                    | 0/30 [00:00<?, ?it/s]"
     ]
    },
    {
     "name": "stdout",
     "output_type": "stream",
     "text": [
      "Deleting previous data for mol BAAD_it0_complex_4636 method mcl\n"
     ]
    },
    {
     "name": "stderr",
     "output_type": "stream",
     "text": [
      "  3%|█▍                                          | 1/30 [00:00<00:05,  5.06it/s]"
     ]
    },
    {
     "name": "stdout",
     "output_type": "stream",
     "text": [
      "Deleting previous data for mol BAAD_it0_complex_4801 method mcl\n"
     ]
    },
    {
     "name": "stderr",
     "output_type": "stream",
     "text": [
      "  7%|██▉                                         | 2/30 [00:00<00:04,  6.07it/s]"
     ]
    },
    {
     "name": "stdout",
     "output_type": "stream",
     "text": [
      "Deleting previous data for mol BAAD_it0_complex_5691 method mcl\n"
     ]
    },
    {
     "name": "stderr",
     "output_type": "stream",
     "text": [
      " 10%|████▍                                       | 3/30 [00:00<00:04,  6.45it/s]"
     ]
    },
    {
     "name": "stdout",
     "output_type": "stream",
     "text": [
      "Deleting previous data for mol BAAD_it0_complex_6492 method mcl\n"
     ]
    },
    {
     "name": "stderr",
     "output_type": "stream",
     "text": [
      " 13%|█████▊                                      | 4/30 [00:00<00:03,  7.16it/s]"
     ]
    },
    {
     "name": "stdout",
     "output_type": "stream",
     "text": [
      "Deleting previous data for mol BAAD_it0_complex_6870 method mcl\n"
     ]
    },
    {
     "name": "stderr",
     "output_type": "stream",
     "text": [
      " 17%|███████▎                                    | 5/30 [00:00<00:03,  7.18it/s]"
     ]
    },
    {
     "name": "stdout",
     "output_type": "stream",
     "text": [
      "Deleting previous data for mol BAAD_it0_complex_7230 method mcl\n"
     ]
    },
    {
     "name": "stderr",
     "output_type": "stream",
     "text": [
      " 20%|████████▊                                   | 6/30 [00:00<00:03,  7.21it/s]"
     ]
    },
    {
     "name": "stdout",
     "output_type": "stream",
     "text": [
      "Deleting previous data for mol BAAD_it0_complex_8359 method mcl\n"
     ]
    },
    {
     "name": "stderr",
     "output_type": "stream",
     "text": [
      " 23%|██████████▎                                 | 7/30 [00:01<00:03,  7.15it/s]"
     ]
    },
    {
     "name": "stdout",
     "output_type": "stream",
     "text": [
      "Deleting previous data for mol BAAD_it0_complex_8558 method mcl\n"
     ]
    },
    {
     "name": "stderr",
     "output_type": "stream",
     "text": [
      " 27%|███████████▋                                | 8/30 [00:01<00:03,  6.66it/s]"
     ]
    },
    {
     "name": "stdout",
     "output_type": "stream",
     "text": [
      "Deleting previous data for mol BAAD_it0_complex_9027 method mcl\n"
     ]
    },
    {
     "name": "stderr",
     "output_type": "stream",
     "text": [
      " 30%|█████████████▏                              | 9/30 [00:01<00:03,  6.75it/s]"
     ]
    },
    {
     "name": "stdout",
     "output_type": "stream",
     "text": [
      "Deleting previous data for mol BAAD_it0_complex_9651 method mcl\n"
     ]
    },
    {
     "name": "stderr",
     "output_type": "stream",
     "text": [
      " 33%|██████████████▎                            | 10/30 [00:01<00:02,  6.86it/s]"
     ]
    },
    {
     "name": "stdout",
     "output_type": "stream",
     "text": [
      "Deleting previous data for mol BAAD_it1_complex_255 method mcl\n"
     ]
    },
    {
     "name": "stderr",
     "output_type": "stream",
     "text": [
      " 40%|█████████████████▏                         | 12/30 [00:01<00:03,  4.65it/s]"
     ]
    },
    {
     "name": "stdout",
     "output_type": "stream",
     "text": [
      "Deleting previous data for mol BAAD_it1_complex_260 method mcl\n",
      "Deleting previous data for mol BAAD_it1_complex_282 method mcl\n"
     ]
    },
    {
     "name": "stderr",
     "output_type": "stream",
     "text": [
      " 47%|████████████████████                       | 14/30 [00:02<00:02,  5.79it/s]"
     ]
    },
    {
     "name": "stdout",
     "output_type": "stream",
     "text": [
      "Deleting previous data for mol BAAD_it1_complex_3 method mcl\n",
      "Deleting previous data for mol BAAD_it1_complex_304 method mcl\n"
     ]
    },
    {
     "name": "stderr",
     "output_type": "stream",
     "text": [
      " 53%|██████████████████████▉                    | 16/30 [00:02<00:02,  6.72it/s]"
     ]
    },
    {
     "name": "stdout",
     "output_type": "stream",
     "text": [
      "Deleting previous data for mol BAAD_it1_complex_319 method mcl\n",
      "Deleting previous data for mol BAAD_it1_complex_343 method mcl\n"
     ]
    },
    {
     "name": "stderr",
     "output_type": "stream",
     "text": [
      " 60%|█████████████████████████▊                 | 18/30 [00:02<00:01,  7.20it/s]"
     ]
    },
    {
     "name": "stdout",
     "output_type": "stream",
     "text": [
      "Deleting previous data for mol BAAD_it1_complex_377 method mcl\n",
      "Deleting previous data for mol BAAD_it1_complex_388 method mcl\n"
     ]
    },
    {
     "name": "stderr",
     "output_type": "stream",
     "text": [
      " 67%|████████████████████████████▋              | 20/30 [00:03<00:01,  7.63it/s]"
     ]
    },
    {
     "name": "stdout",
     "output_type": "stream",
     "text": [
      "Deleting previous data for mol BAAD_it1_complex_5 method mcl\n",
      "Deleting previous data for mol BAAD_water_complex_124w method mcl\n"
     ]
    },
    {
     "name": "stderr",
     "output_type": "stream",
     "text": [
      " 73%|███████████████████████████████▌           | 22/30 [00:03<00:01,  6.93it/s]"
     ]
    },
    {
     "name": "stdout",
     "output_type": "stream",
     "text": [
      "Deleting previous data for mol BAAD_water_complex_174w method mcl\n",
      "Deleting previous data for mol BAAD_water_complex_200w method mcl\n"
     ]
    },
    {
     "name": "stderr",
     "output_type": "stream",
     "text": [
      " 80%|██████████████████████████████████▍        | 24/30 [00:03<00:00,  6.52it/s]"
     ]
    },
    {
     "name": "stdout",
     "output_type": "stream",
     "text": [
      "Deleting previous data for mol BAAD_water_complex_282w method mcl\n",
      "Deleting previous data for mol BAAD_water_complex_286w method mcl\n"
     ]
    },
    {
     "name": "stderr",
     "output_type": "stream",
     "text": [
      " 87%|█████████████████████████████████████▎     | 26/30 [00:04<00:00,  6.10it/s]"
     ]
    },
    {
     "name": "stdout",
     "output_type": "stream",
     "text": [
      "Deleting previous data for mol BAAD_water_complex_293w method mcl\n",
      "Deleting previous data for mol BAAD_water_complex_328w method mcl\n"
     ]
    },
    {
     "name": "stderr",
     "output_type": "stream",
     "text": [
      " 93%|████████████████████████████████████████▏  | 28/30 [00:04<00:00,  6.28it/s]"
     ]
    },
    {
     "name": "stdout",
     "output_type": "stream",
     "text": [
      "Deleting previous data for mol BAAD_water_complex_332w method mcl\n",
      "Deleting previous data for mol BAAD_water_complex_383w method mcl\n"
     ]
    },
    {
     "name": "stderr",
     "output_type": "stream",
     "text": [
      "100%|███████████████████████████████████████████| 30/30 [00:04<00:00,  6.49it/s]\n"
     ]
    },
    {
     "name": "stdout",
     "output_type": "stream",
     "text": [
      "Deleting previous data for mol BAAD_water_complex_72w method mcl\n",
      "Independent validation set loaded !\n",
      "device set to : cuda\n",
      "GeForce GTX 1080 Ti\n",
      "GINet(\n",
      "  (conv1): GraphAttention(30, 16)\n",
      "  (conv2): GraphAttention(16, 32)\n",
      "  (fc1): Linear(in_features=32, out_features=64, bias=True)\n",
      "  (fc2): Linear(in_features=64, out_features=1, bias=True)\n",
      ") Adam (\n",
      "Parameter Group 0\n",
      "    amsgrad: False\n",
      "    betas: (0.9, 0.999)\n",
      "    eps: 1e-08\n",
      "    lr: 0.001\n",
      "    weight_decay: 0\n",
      ")\n",
      "Training from scratch\n",
      "Training from Scratch\n",
      "Threshold set to 5\n",
      "WARNING: Mean Squared Logarithmic Error cannot be used when targets contain negative values.\n",
      "Epoch [0001] : train loss 1.244273e-01 | accuracy 1.0000e+00 | time 3.74e+00 sec.\n",
      "Threshold set to 5\n",
      "Epoch [0001] : valid loss 1.081186e-01 | accuracy 1.0000e+00 | time 9.95e-01 sec.\n",
      "Threshold set to 5\n",
      "Epoch [0002] : train loss 1.010201e-01 | accuracy 1.0000e+00 | time 3.03e+00 sec.\n",
      "Threshold set to 5\n",
      "Epoch [0002] : valid loss 1.109965e-01 | accuracy 1.0000e+00 | time 1.01e+00 sec.\n",
      "Threshold set to 5\n",
      "Epoch [0003] : train loss 1.043189e-01 | accuracy 1.0000e+00 | time 3.10e+00 sec.\n",
      "Threshold set to 5\n",
      "Epoch [0003] : valid loss 4.035761e-02 | accuracy 1.0000e+00 | time 1.27e+00 sec.\n",
      "Threshold set to 5\n",
      "Epoch [0004] : train loss 5.899995e-02 | accuracy 1.0000e+00 | time 2.87e+00 sec.\n",
      "Threshold set to 5\n",
      "Epoch [0004] : valid loss 3.920666e-02 | accuracy 1.0000e+00 | time 1.48e+00 sec.\n",
      "Threshold set to 5\n",
      "Epoch [0005] : train loss 5.555612e-02 | accuracy 1.0000e+00 | time 2.85e+00 sec.\n",
      "Threshold set to 5\n",
      "WARNING: Mean Squared Logarithmic Error cannot be used when targets contain negative values.\n",
      "Epoch [0005] : valid loss 7.449969e-02 | accuracy 1.0000e+00 | time 1.02e+00 sec.\n",
      "Training is OVER :)\n"
     ]
    }
   ],
   "source": [
    "pretrained_model=None\n",
    "train_using_pretrained_model=False\n",
    "epoch_start=0\n",
    "list_complexes = [\"1EXB\"]\n",
    "database_eval = [\"BAAD\"]\n",
    "outdir = \"/bgfs01/insite/yanis.tazi/Scoring_Project/Graph_Project/live_demo_predictions/train_demo/val_data_specified/\"\n",
    "training_graph(dir_path=dir_path,\n",
    "               edge_feature=edge_feature,\n",
    "               node_feature=node_feature,\n",
    "               batch_size=batch_size,\n",
    "               target=target,\n",
    "               task=task,\n",
    "               shuffle=shuffle,\n",
    "               lr=lr,\n",
    "               percent=percent,\n",
    "               threshold=threshold,\n",
    "               list_complexes=list_complexes,\n",
    "               database_eval=database_eval,\n",
    "               outdir=outdir,\n",
    "               neuralnet_arch=neuralnet_arch,\n",
    "               nepoch=nepoch,\n",
    "               save_model=save_model,\n",
    "               save_epoch=save_epoch,\n",
    "               save_every=save_every,\n",
    "               plot_every=plot_every,\n",
    "               plot_name=plot_name,\n",
    "               optimizer_name=optimizer_name,\n",
    "               pretrained_model=pretrained_model,\n",
    "               train_using_pretrained_model=train_using_pretrained_model,\n",
    "               epoch_start=epoch_start,\n",
    "               keep_latest_saved_plots=keep_latest_saved_plots,\n",
    "               keep_latest_saved_models=keep_latest_saved_models)\n",
    "\n",
    "print(\"Training is OVER :)\")"
   ]
  },
  {
   "cell_type": "code",
   "execution_count": null,
   "id": "0ad25728",
   "metadata": {},
   "outputs": [],
   "source": []
  },
  {
   "cell_type": "markdown",
   "id": "0baa3e0c",
   "metadata": {},
   "source": [
    "# 2. Model scoring on new decoys\n",
    "\n",
    "Predict the i-RMSD on pdb files and use this as a filter to estimate high quality vs low quality new generated decoys.\n",
    "\n",
    "The script can convert pdb decoys to a graph that match the testing input required format. \n"
   ]
  },
  {
   "cell_type": "code",
   "execution_count": 9,
   "id": "6091ea3e",
   "metadata": {
    "scrolled": true
   },
   "outputs": [
    {
     "name": "stdout",
     "output_type": "stream",
     "text": [
      "   Create HDF5           :   0%|                                                                                                                                                      | 0/3 [00:00<?, ?it/s]Graph 0.616785\n",
      "Node 1.080067\n",
      "Edge 0.000192\n",
      "   Create HDF5           :  33%|███████████████████████████████████████████████▎                                                                                              | 1/3 [00:01<00:03,  1.79s/it]Graph 2.844671\n",
      "Node 1.376427\n",
      "Edge 0.002059\n",
      "   Create HDF5           :  67%|██████████████████████████████████████████████████████████████████████████████████████████████▋                                               | 2/3 [00:06<00:03,  3.27s/it]Graph 1.394288\n",
      "Node 1.162472\n",
      "Edge 0.000651\n",
      "   Create HDF5           : 100%|██████████████████████████████████████████████████████████████████████████████████████████████████████████████████████████████████████████████| 3/3 [00:08<00:00,  2.91s/it]\n",
      "Creating graph with fake scoring just to match graph format\n",
      "The target scoring_normalized does not exist. Create it\n",
      "   Checking dataset Integrity\n",
      "   Processing data set\n",
      "   Train dataset         : 100%|██████████████████████████████████████████████████████████████████████████████████████████████████████████████████████████| 1/1 [00:00<00:00, 268.81it/s, mol=residues.hdf5]\n"
     ]
    },
    {
     "name": "stderr",
     "output_type": "stream",
     "text": [
      "  0%|                                                                                                                                                                                 | 0/3 [00:00<?, ?it/s]"
     ]
    },
    {
     "name": "stdout",
     "output_type": "stream",
     "text": [
      "WARNING: no cluster detected\n",
      "WARNING: no cluster detected\n"
     ]
    },
    {
     "name": "stderr",
     "output_type": "stream",
     "text": [
      " 67%|████████████████████████████████████████████████████████████████████████████████████████████████████████████████▋                                                        | 2/3 [00:00<00:00, 11.75it/s]"
     ]
    },
    {
     "name": "stdout",
     "output_type": "stream",
     "text": [
      "WARNING: no cluster detected\n"
     ]
    },
    {
     "name": "stderr",
     "output_type": "stream",
     "text": [
      "100%|█████████████████████████████████████████████████████████████████████████████████████████████████████████████████████████████████████████████████████████████████████████| 3/3 [00:00<00:00, 13.03it/s]\n"
     ]
    },
    {
     "name": "stdout",
     "output_type": "stream",
     "text": [
      "Test set loaded\n",
      "device set to : cuda\n",
      "A40\n",
      "EGAT_Net(\n",
      "  (conv1): EGAT(30, 16)\n",
      "  (conv2): EGAT(16, 32)\n",
      "  (conv1_ext): EGAT(30, 16)\n",
      "  (conv2_ext): EGAT(16, 32)\n",
      "  (fc1): Linear(in_features=64, out_features=128, bias=True)\n",
      "  (fc2): Linear(in_features=128, out_features=1, bias=True)\n",
      ") Adam (\n",
      "Parameter Group 0\n",
      "    amsgrad: False\n",
      "    betas: (0.9, 0.999)\n",
      "    eps: 1e-08\n",
      "    lr: 0.001\n",
      "    weight_decay: 0\n",
      ")\n",
      "   Checking dataset Integrity\n",
      "   Processing data set\n",
      "   Train dataset         : 100%|██████████████████████████████████████████████████████████████████████████████████████████████████████████████████████████| 1/1 [00:00<00:00, 202.88it/s, mol=residues.hdf5]\n",
      "Test set loaded\n"
     ]
    },
    {
     "name": "stderr",
     "output_type": "stream",
     "text": [
      " 33%|████████████████████████████████████████████████████████▎                                                                                                                | 1/3 [00:00<00:00,  9.83it/s]"
     ]
    },
    {
     "name": "stdout",
     "output_type": "stream",
     "text": [
      "Deleting previous data for mol 3hmx.1.AB_00740_irmsd_1.35 method mcl\n",
      "Deleting previous data for mol 3hmx.1.AB_07145_irmsd_5.85 method mcl\n",
      "Deleting previous data for mol 3hmx.1.AB_08766_irmsd_10.13 method mcl\n"
     ]
    },
    {
     "name": "stderr",
     "output_type": "stream",
     "text": [
      "100%|█████████████████████████████████████████████████████████████████████████████████████████████████████████████████████████████████████████████████████████████████████████| 3/3 [00:00<00:00, 12.31it/s]"
     ]
    },
    {
     "name": "stdout",
     "output_type": "stream",
     "text": [
      "Threshold set to 5\n"
     ]
    },
    {
     "name": "stderr",
     "output_type": "stream",
     "text": [
      "\n"
     ]
    }
   ],
   "source": [
    "from Model_Functions.Model_Testing_Predictions import *\n",
    "\n",
    "path_decoys = \"/bgfs01/insite/yanis.tazi/Scoring_Project/Graph_Project/live_demo_predictions/predict_demo/new_decoys/\"\n",
    "neuralnet_arch = EGAT_Net\n",
    "pretrained_model = \"/bgfs01/insite/yanis.tazi/Scoring_Project/Graph_Project/\\\n",
    "latest_gridsearch_irmsd_5/random_split_test_3PC8_3K75/4/treg_yscoring_normalized_b1024_e1000_lr0.001_733.pth.tar\"\n",
    "optimizer_name = \"Adam\"\n",
    "threshold = 5\n",
    "convert_decoys = True\n",
    "nproc = 1\n",
    "tmpdir = \"/bgfs01/insite/yanis.tazi/Scoring_Project/Graph_Project/live_demo_predictions/predict_demo/pkl/\"\n",
    "outdir = \"/bgfs01/insite/yanis.tazi/Scoring_Project/Graph_Project/live_demo_predictions/predict_demo/\"\n",
    "list_target_txt = \"\" # not needed as we either know it's 0 or we are inferring\n",
    "compute_raw = True\n",
    "min_val = 0\n",
    "max_val = 20\n",
    "contact_distance = 8.5\n",
    "internal_contact_distance = 3\n",
    "\n",
    "   \n",
    "\n",
    "predicted_irmsd = model_new_predictions(path_decoys = path_decoys,\n",
    "                                        neuralnet_arch = neuralnet_arch,\n",
    "                                        pretrained_model = pretrained_model,\n",
    "                                        optimizer_name = optimizer_name,\n",
    "                                        threshold = threshold,\n",
    "                                        convert_decoys = convert_decoys,\n",
    "                                        nproc = nproc,\n",
    "                                        tmpdir = tmpdir,\n",
    "                                        outdir = outdir,\n",
    "                                        list_target_txt = list_target_txt,\n",
    "                                        compute_raw = compute_raw,\n",
    "                                        min_val = min_val,\n",
    "                                        max_val = max_val,\n",
    "                                        contact_distance = contact_distance,\n",
    "                                        internal_contact_distance = internal_contact_distance)\n"
   ]
  },
  {
   "cell_type": "code",
   "execution_count": 10,
   "id": "839f2367",
   "metadata": {},
   "outputs": [
    {
     "name": "stdout",
     "output_type": "stream",
     "text": [
      "\n",
      " Predicted i-RMSD for :\n",
      "\n",
      "[b'3hmx.1.AB_00740_irmsd_1.35', b'3hmx.1.AB_07145_irmsd_5.85', b'3hmx.1.AB_08766_irmsd_10.13']\n",
      "\n",
      "[1.2587958574295044, 5.907828211784363, 9.959047436714172]\n"
     ]
    }
   ],
   "source": [
    "import h5py\n",
    "results = h5py.File(\"/bgfs01/insite/yanis.tazi/Scoring_Project/Graph_Project/\\\n",
    "live_demo_predictions/predict_demo/test_data.hdf5\")\n",
    "decoys = list(results[\"epoch_0000\"][\"test\"][\"mol\"])\n",
    "results.close()\n",
    "\n",
    "print(\"\\n\",\"Predicted i-RMSD for :\" +\"\\n\"*2 + str(decoys) + \"\\n\"*2+str(predicted_irmsd[\"raw\"]))\n"
   ]
  },
  {
   "cell_type": "code",
   "execution_count": 12,
   "id": "7787adba",
   "metadata": {},
   "outputs": [
    {
     "data": {
      "text/plain": [
       "{'normalized': [0.06293979287147522, 0.29539141058921814, 0.4979523718357086],\n",
       " 'raw': [1.2587958574295044, 5.907828211784363, 9.959047436714172]}"
      ]
     },
     "execution_count": 12,
     "metadata": {},
     "output_type": "execute_result"
    }
   ],
   "source": [
    "predicted_irmsd"
   ]
  },
  {
   "cell_type": "code",
   "execution_count": null,
   "id": "a479d0a5",
   "metadata": {},
   "outputs": [],
   "source": []
  },
  {
   "cell_type": "code",
   "execution_count": null,
   "id": "249a87f0",
   "metadata": {},
   "outputs": [],
   "source": []
  },
  {
   "cell_type": "code",
   "execution_count": null,
   "id": "8bf2f992",
   "metadata": {},
   "outputs": [],
   "source": []
  },
  {
   "cell_type": "code",
   "execution_count": null,
   "id": "d39fc581",
   "metadata": {},
   "outputs": [],
   "source": []
  },
  {
   "cell_type": "code",
   "execution_count": null,
   "id": "161f7c29",
   "metadata": {},
   "outputs": [],
   "source": []
  }
 ],
 "metadata": {
  "kernelspec": {
   "display_name": "Python 3",
   "language": "python",
   "name": "python3"
  },
  "language_info": {
   "codemirror_mode": {
    "name": "ipython",
    "version": 3
   },
   "file_extension": ".py",
   "mimetype": "text/x-python",
   "name": "python",
   "nbconvert_exporter": "python",
   "pygments_lexer": "ipython3",
   "version": "3.8.8"
  }
 },
 "nbformat": 4,
 "nbformat_minor": 5
}
